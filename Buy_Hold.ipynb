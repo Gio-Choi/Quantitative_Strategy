{
 "cells": [
  {
   "cell_type": "code",
   "execution_count": 1,
   "id": "b7829467",
   "metadata": {},
   "outputs": [],
   "source": [
    "import pandas as pd\n",
    "import numpy as np\n",
    "import matplotlib.pyplot as plt\n",
    "%matplotlib inline\n",
    "\n",
    "first_df = pd.read_csv('First_Day_Dataset.csv')"
   ]
  },
  {
   "cell_type": "markdown",
   "id": "1be77281",
   "metadata": {},
   "source": [
    "## 가격 데이터프레임을 수익률 데이터 프레임으로 바꿔주기"
   ]
  },
  {
   "cell_type": "code",
   "execution_count": 2,
   "id": "357fa221",
   "metadata": {},
   "outputs": [],
   "source": [
    "pct_df = first_df"
   ]
  },
  {
   "cell_type": "code",
   "execution_count": 3,
   "id": "9699c86d",
   "metadata": {},
   "outputs": [],
   "source": [
    "pct_df['S&P'] = pct_df.loc[:,'^GSPC'].pct_change()\n",
    "pct_df['EurAsia'] = pct_df.loc[:,'EFA'].pct_change()\n",
    "pct_df['Real_Estate'] = pct_df.loc[:,'^FNAR'].pct_change()\n",
    "pct_df['Commodity'] = pct_df.loc[:,'GD=F'].pct_change()\n"
   ]
  },
  {
   "cell_type": "code",
   "execution_count": 4,
   "id": "7ca4c353",
   "metadata": {},
   "outputs": [],
   "source": [
    "pct_df = pct_df.drop(['^GSPC', 'EFA', '^FNAR', 'GD=F'] , axis=1)"
   ]
  },
  {
   "cell_type": "code",
   "execution_count": 5,
   "id": "78c2f7e6",
   "metadata": {
    "scrolled": true
   },
   "outputs": [],
   "source": [
    "pct_df = pct_df.dropna()"
   ]
  },
  {
   "cell_type": "code",
   "execution_count": 6,
   "id": "d8f11326",
   "metadata": {},
   "outputs": [],
   "source": [
    "pct_df = pct_df.drop(['Unnamed: 0'] , axis=1)"
   ]
  },
  {
   "cell_type": "markdown",
   "id": "1bd48750",
   "metadata": {},
   "source": [
    "# Buy&Hold Strategy"
   ]
  },
  {
   "cell_type": "code",
   "execution_count": 7,
   "id": "17ded48d",
   "metadata": {},
   "outputs": [],
   "source": [
    "DF_BuyHold = []"
   ]
  },
  {
   "cell_type": "code",
   "execution_count": 8,
   "id": "abe72aa2",
   "metadata": {},
   "outputs": [
    {
     "data": {
      "text/plain": [
       "[0.24295694, 0.69729744, 0.04978756, 0.00995805]"
      ]
     },
     "execution_count": 8,
     "metadata": {},
     "output_type": "execute_result"
    }
   ],
   "source": [
    "#투자비중\n",
    "W = [0.24295694, 0.69729744, 0.04978756, 0.00995805]\n",
    "W"
   ]
  },
  {
   "cell_type": "code",
   "execution_count": 9,
   "id": "c07981f8",
   "metadata": {},
   "outputs": [
    {
     "data": {
      "text/plain": [
       "[[242956.94,\n",
       "  697297.4400000001,\n",
       "  49787.560000000005,\n",
       "  9958.05,\n",
       "  999999.9900000002]]"
      ]
     },
     "execution_count": 9,
     "metadata": {},
     "output_type": "execute_result"
    }
   ],
   "source": [
    "# 투자 원금\n",
    "Total = 1000000\n",
    "first_port = []\n",
    "\n",
    "sp500_start = W[0]*Total\n",
    "EFA_start = W[1]*Total\n",
    "RealEstate_start = W[2]*Total\n",
    "Commodity_start = W[3]*Total\n",
    "total_price = sp500_start+EFA_start+RealEstate_start+Commodity_start\n",
    "\n",
    "\n",
    "first_port.append(sp500_start)\n",
    "first_port.append(EFA_start)\n",
    "first_port.append(RealEstate_start)\n",
    "first_port.append(Commodity_start)\n",
    "first_port.append(total_price)\n",
    "\n",
    "\n",
    "DF_BuyHold.append(first_port)\n",
    "DF_BuyHold\n"
   ]
  },
  {
   "cell_type": "code",
   "execution_count": null,
   "id": "623a484d",
   "metadata": {},
   "outputs": [],
   "source": [
    "for i in range(len(pct_df)):\n",
    "    current_sp = DF_BuyHold[i][0]* (1+ (pct_df['S&P'].iloc[i]))\n",
    "    current_EurAsia = DF_BuyHold[i][1]* (1+ (pct_df['EurAsia'].iloc[i]))\n",
    "    current_Real_Estate = DF_BuyHold[i][2]* (1+ (pct_df['Real_Estate'].iloc[i]))\n",
    "    current_Commodity = DF_BuyHold[i][3]* (1+ (pct_df['Commodity'].iloc[i]))\n",
    "    \n",
    "    current_total_price = current_sp + current_EurAsia + current_Real_Estate + current_Commodity\n",
    "    \n",
    "    current_portfolio = []\n",
    "    current_portfolio.append(current_sp)\n",
    "    current_portfolio.append(current_EurAsia)\n",
    "    current_portfolio.append(current_Real_Estate)\n",
    "    current_portfolio.append(current_Commodity)\n",
    "    current_portfolio.append(current_total_price)\n",
    "    \n",
    "    \n",
    "    DF_BuyHold.append(current_portfolio)\n",
    "                                   \n",
    "DF_BuyHold                                   "
   ]
  },
  {
   "cell_type": "code",
   "execution_count": 11,
   "id": "56637819",
   "metadata": {
    "scrolled": true
   },
   "outputs": [
    {
     "data": {
      "text/html": [
       "<div>\n",
       "<style scoped>\n",
       "    .dataframe tbody tr th:only-of-type {\n",
       "        vertical-align: middle;\n",
       "    }\n",
       "\n",
       "    .dataframe tbody tr th {\n",
       "        vertical-align: top;\n",
       "    }\n",
       "\n",
       "    .dataframe thead th {\n",
       "        text-align: right;\n",
       "    }\n",
       "</style>\n",
       "<table border=\"1\" class=\"dataframe\">\n",
       "  <thead>\n",
       "    <tr style=\"text-align: right;\">\n",
       "      <th></th>\n",
       "      <th>S&amp;P</th>\n",
       "      <th>EurAsia</th>\n",
       "      <th>Real_Estate</th>\n",
       "      <th>Commodity</th>\n",
       "    </tr>\n",
       "  </thead>\n",
       "  <tbody>\n",
       "    <tr>\n",
       "      <th>1</th>\n",
       "      <td>0.037762</td>\n",
       "      <td>0.043807</td>\n",
       "      <td>-0.009725</td>\n",
       "      <td>0.079894</td>\n",
       "    </tr>\n",
       "    <tr>\n",
       "      <th>2</th>\n",
       "      <td>0.032713</td>\n",
       "      <td>0.004522</td>\n",
       "      <td>0.038322</td>\n",
       "      <td>-0.015849</td>\n",
       "    </tr>\n",
       "    <tr>\n",
       "      <th>3</th>\n",
       "      <td>-0.009316</td>\n",
       "      <td>-0.028093</td>\n",
       "      <td>0.034129</td>\n",
       "      <td>-0.019524</td>\n",
       "    </tr>\n",
       "    <tr>\n",
       "      <th>4</th>\n",
       "      <td>-0.090894</td>\n",
       "      <td>-0.137484</td>\n",
       "      <td>-0.076239</td>\n",
       "      <td>-0.156250</td>\n",
       "    </tr>\n",
       "    <tr>\n",
       "      <th>5</th>\n",
       "      <td>0.068441</td>\n",
       "      <td>0.105512</td>\n",
       "      <td>0.082808</td>\n",
       "      <td>0.031008</td>\n",
       "    </tr>\n",
       "    <tr>\n",
       "      <th>...</th>\n",
       "      <td>...</td>\n",
       "      <td>...</td>\n",
       "      <td>...</td>\n",
       "      <td>...</td>\n",
       "    </tr>\n",
       "    <tr>\n",
       "      <th>85</th>\n",
       "      <td>0.057368</td>\n",
       "      <td>0.035352</td>\n",
       "      <td>0.001521</td>\n",
       "      <td>0.049428</td>\n",
       "    </tr>\n",
       "    <tr>\n",
       "      <th>86</th>\n",
       "      <td>0.070430</td>\n",
       "      <td>0.028296</td>\n",
       "      <td>0.013770</td>\n",
       "      <td>0.046954</td>\n",
       "    </tr>\n",
       "    <tr>\n",
       "      <th>87</th>\n",
       "      <td>-0.041356</td>\n",
       "      <td>-0.015834</td>\n",
       "      <td>-0.028864</td>\n",
       "      <td>-0.047209</td>\n",
       "    </tr>\n",
       "    <tr>\n",
       "      <th>88</th>\n",
       "      <td>-0.020871</td>\n",
       "      <td>-0.028585</td>\n",
       "      <td>-0.024425</td>\n",
       "      <td>0.008015</td>\n",
       "    </tr>\n",
       "    <tr>\n",
       "      <th>89</th>\n",
       "      <td>0.106400</td>\n",
       "      <td>0.154527</td>\n",
       "      <td>0.098461</td>\n",
       "      <td>0.107850</td>\n",
       "    </tr>\n",
       "  </tbody>\n",
       "</table>\n",
       "<p>89 rows × 4 columns</p>\n",
       "</div>"
      ],
      "text/plain": [
       "         S&P   EurAsia  Real_Estate  Commodity\n",
       "1   0.037762  0.043807    -0.009725   0.079894\n",
       "2   0.032713  0.004522     0.038322  -0.015849\n",
       "3  -0.009316 -0.028093     0.034129  -0.019524\n",
       "4  -0.090894 -0.137484    -0.076239  -0.156250\n",
       "5   0.068441  0.105512     0.082808   0.031008\n",
       "..       ...       ...          ...        ...\n",
       "85  0.057368  0.035352     0.001521   0.049428\n",
       "86  0.070430  0.028296     0.013770   0.046954\n",
       "87 -0.041356 -0.015834    -0.028864  -0.047209\n",
       "88 -0.020871 -0.028585    -0.024425   0.008015\n",
       "89  0.106400  0.154527     0.098461   0.107850\n",
       "\n",
       "[89 rows x 4 columns]"
      ]
     },
     "execution_count": 11,
     "metadata": {},
     "output_type": "execute_result"
    }
   ],
   "source": [
    "pct_df"
   ]
  },
  {
   "cell_type": "code",
   "execution_count": 12,
   "id": "27183dc5",
   "metadata": {},
   "outputs": [
    {
     "data": {
      "text/html": [
       "<div>\n",
       "<style scoped>\n",
       "    .dataframe tbody tr th:only-of-type {\n",
       "        vertical-align: middle;\n",
       "    }\n",
       "\n",
       "    .dataframe tbody tr th {\n",
       "        vertical-align: top;\n",
       "    }\n",
       "\n",
       "    .dataframe thead th {\n",
       "        text-align: right;\n",
       "    }\n",
       "</style>\n",
       "<table border=\"1\" class=\"dataframe\">\n",
       "  <thead>\n",
       "    <tr style=\"text-align: right;\">\n",
       "      <th></th>\n",
       "      <th>sp</th>\n",
       "      <th>EurAsia</th>\n",
       "      <th>Real_Estate</th>\n",
       "      <th>Commodity</th>\n",
       "      <th>Total_Price</th>\n",
       "    </tr>\n",
       "  </thead>\n",
       "  <tbody>\n",
       "    <tr>\n",
       "      <th>0</th>\n",
       "      <td>242956.940000</td>\n",
       "      <td>6.972974e+05</td>\n",
       "      <td>49787.560000</td>\n",
       "      <td>9958.050000</td>\n",
       "      <td>1.000000e+06</td>\n",
       "    </tr>\n",
       "    <tr>\n",
       "      <th>1</th>\n",
       "      <td>252131.427621</td>\n",
       "      <td>7.278437e+05</td>\n",
       "      <td>49303.366247</td>\n",
       "      <td>10753.638243</td>\n",
       "      <td>1.040032e+06</td>\n",
       "    </tr>\n",
       "    <tr>\n",
       "      <th>2</th>\n",
       "      <td>260379.305431</td>\n",
       "      <td>7.311353e+05</td>\n",
       "      <td>51192.747971</td>\n",
       "      <td>10583.209097</td>\n",
       "      <td>1.053291e+06</td>\n",
       "    </tr>\n",
       "    <tr>\n",
       "      <th>3</th>\n",
       "      <td>257953.553881</td>\n",
       "      <td>7.105957e+05</td>\n",
       "      <td>52939.918834</td>\n",
       "      <td>10376.582204</td>\n",
       "      <td>1.031866e+06</td>\n",
       "    </tr>\n",
       "    <tr>\n",
       "      <th>4</th>\n",
       "      <td>234507.250341</td>\n",
       "      <td>6.129002e+05</td>\n",
       "      <td>48903.817019</td>\n",
       "      <td>8755.241234</td>\n",
       "      <td>9.050665e+05</td>\n",
       "    </tr>\n",
       "    <tr>\n",
       "      <th>...</th>\n",
       "      <td>...</td>\n",
       "      <td>...</td>\n",
       "      <td>...</td>\n",
       "      <td>...</td>\n",
       "      <td>...</td>\n",
       "    </tr>\n",
       "    <tr>\n",
       "      <th>85</th>\n",
       "      <td>604527.192906</td>\n",
       "      <td>1.076297e+06</td>\n",
       "      <td>66883.413459</td>\n",
       "      <td>5187.537174</td>\n",
       "      <td>1.752895e+06</td>\n",
       "    </tr>\n",
       "    <tr>\n",
       "      <th>86</th>\n",
       "      <td>647104.117426</td>\n",
       "      <td>1.106752e+06</td>\n",
       "      <td>67804.402511</td>\n",
       "      <td>5431.115283</td>\n",
       "      <td>1.827091e+06</td>\n",
       "    </tr>\n",
       "    <tr>\n",
       "      <th>87</th>\n",
       "      <td>620342.163915</td>\n",
       "      <td>1.089227e+06</td>\n",
       "      <td>65847.302068</td>\n",
       "      <td>5174.717176</td>\n",
       "      <td>1.780592e+06</td>\n",
       "    </tr>\n",
       "    <tr>\n",
       "      <th>88</th>\n",
       "      <td>607395.116233</td>\n",
       "      <td>1.058092e+06</td>\n",
       "      <td>64238.957938</td>\n",
       "      <td>5216.193341</td>\n",
       "      <td>1.734942e+06</td>\n",
       "    </tr>\n",
       "    <tr>\n",
       "      <th>89</th>\n",
       "      <td>672022.034763</td>\n",
       "      <td>1.221595e+06</td>\n",
       "      <td>70563.980372</td>\n",
       "      <td>5778.760767</td>\n",
       "      <td>1.969960e+06</td>\n",
       "    </tr>\n",
       "  </tbody>\n",
       "</table>\n",
       "<p>90 rows × 5 columns</p>\n",
       "</div>"
      ],
      "text/plain": [
       "               sp       EurAsia   Real_Estate     Commodity   Total_Price\n",
       "0   242956.940000  6.972974e+05  49787.560000   9958.050000  1.000000e+06\n",
       "1   252131.427621  7.278437e+05  49303.366247  10753.638243  1.040032e+06\n",
       "2   260379.305431  7.311353e+05  51192.747971  10583.209097  1.053291e+06\n",
       "3   257953.553881  7.105957e+05  52939.918834  10376.582204  1.031866e+06\n",
       "4   234507.250341  6.129002e+05  48903.817019   8755.241234  9.050665e+05\n",
       "..            ...           ...           ...           ...           ...\n",
       "85  604527.192906  1.076297e+06  66883.413459   5187.537174  1.752895e+06\n",
       "86  647104.117426  1.106752e+06  67804.402511   5431.115283  1.827091e+06\n",
       "87  620342.163915  1.089227e+06  65847.302068   5174.717176  1.780592e+06\n",
       "88  607395.116233  1.058092e+06  64238.957938   5216.193341  1.734942e+06\n",
       "89  672022.034763  1.221595e+06  70563.980372   5778.760767  1.969960e+06\n",
       "\n",
       "[90 rows x 5 columns]"
      ]
     },
     "execution_count": 12,
     "metadata": {},
     "output_type": "execute_result"
    }
   ],
   "source": [
    "df_buyHold = pd.DataFrame(\n",
    "      DF_BuyHold,\n",
    "      columns=['sp', 'EurAsia', 'Real_Estate', 'Commodity','Total_Price'])\n",
    "df_buyHold"
   ]
  },
  {
   "cell_type": "markdown",
   "id": "ced84593",
   "metadata": {},
   "source": [
    "## 수익률"
   ]
  },
  {
   "cell_type": "code",
   "execution_count": 13,
   "id": "0789d0de",
   "metadata": {},
   "outputs": [
    {
     "data": {
      "text/plain": [
       "1     0.040032\n",
       "2     0.012748\n",
       "3    -0.020341\n",
       "4    -0.122883\n",
       "5     0.093959\n",
       "        ...   \n",
       "85    0.041530\n",
       "86    0.042328\n",
       "87   -0.025450\n",
       "88   -0.025637\n",
       "89    0.135461\n",
       "Name: Total_Price, Length: 89, dtype: float64"
      ]
     },
     "execution_count": 13,
     "metadata": {},
     "output_type": "execute_result"
    }
   ],
   "source": [
    "Return = df_buyHold.loc[:,'Total_Price'].pct_change()\n",
    "Return = Return.dropna()\n",
    "Return"
   ]
  },
  {
   "cell_type": "code",
   "execution_count": 14,
   "id": "5e65ad6c",
   "metadata": {},
   "outputs": [
    {
     "data": {
      "text/html": [
       "<div>\n",
       "<style scoped>\n",
       "    .dataframe tbody tr th:only-of-type {\n",
       "        vertical-align: middle;\n",
       "    }\n",
       "\n",
       "    .dataframe tbody tr th {\n",
       "        vertical-align: top;\n",
       "    }\n",
       "\n",
       "    .dataframe thead th {\n",
       "        text-align: right;\n",
       "    }\n",
       "</style>\n",
       "<table border=\"1\" class=\"dataframe\">\n",
       "  <thead>\n",
       "    <tr style=\"text-align: right;\">\n",
       "      <th></th>\n",
       "      <th>sp</th>\n",
       "      <th>EurAsia</th>\n",
       "      <th>Real_Estate</th>\n",
       "      <th>Commodity</th>\n",
       "    </tr>\n",
       "  </thead>\n",
       "  <tbody>\n",
       "    <tr>\n",
       "      <th>1</th>\n",
       "      <td>0.037762</td>\n",
       "      <td>0.043807</td>\n",
       "      <td>-0.009725</td>\n",
       "      <td>0.079894</td>\n",
       "    </tr>\n",
       "    <tr>\n",
       "      <th>2</th>\n",
       "      <td>0.032713</td>\n",
       "      <td>0.004522</td>\n",
       "      <td>0.038322</td>\n",
       "      <td>-0.015849</td>\n",
       "    </tr>\n",
       "    <tr>\n",
       "      <th>3</th>\n",
       "      <td>-0.009316</td>\n",
       "      <td>-0.028093</td>\n",
       "      <td>0.034129</td>\n",
       "      <td>-0.019524</td>\n",
       "    </tr>\n",
       "    <tr>\n",
       "      <th>4</th>\n",
       "      <td>-0.090894</td>\n",
       "      <td>-0.137484</td>\n",
       "      <td>-0.076239</td>\n",
       "      <td>-0.156250</td>\n",
       "    </tr>\n",
       "    <tr>\n",
       "      <th>5</th>\n",
       "      <td>0.068441</td>\n",
       "      <td>0.105512</td>\n",
       "      <td>0.082808</td>\n",
       "      <td>0.031008</td>\n",
       "    </tr>\n",
       "    <tr>\n",
       "      <th>...</th>\n",
       "      <td>...</td>\n",
       "      <td>...</td>\n",
       "      <td>...</td>\n",
       "      <td>...</td>\n",
       "    </tr>\n",
       "    <tr>\n",
       "      <th>85</th>\n",
       "      <td>0.057368</td>\n",
       "      <td>0.035352</td>\n",
       "      <td>0.001521</td>\n",
       "      <td>0.049428</td>\n",
       "    </tr>\n",
       "    <tr>\n",
       "      <th>86</th>\n",
       "      <td>0.070430</td>\n",
       "      <td>0.028296</td>\n",
       "      <td>0.013770</td>\n",
       "      <td>0.046954</td>\n",
       "    </tr>\n",
       "    <tr>\n",
       "      <th>87</th>\n",
       "      <td>-0.041356</td>\n",
       "      <td>-0.015834</td>\n",
       "      <td>-0.028864</td>\n",
       "      <td>-0.047209</td>\n",
       "    </tr>\n",
       "    <tr>\n",
       "      <th>88</th>\n",
       "      <td>-0.020871</td>\n",
       "      <td>-0.028585</td>\n",
       "      <td>-0.024425</td>\n",
       "      <td>0.008015</td>\n",
       "    </tr>\n",
       "    <tr>\n",
       "      <th>89</th>\n",
       "      <td>0.106400</td>\n",
       "      <td>0.154527</td>\n",
       "      <td>0.098461</td>\n",
       "      <td>0.107850</td>\n",
       "    </tr>\n",
       "  </tbody>\n",
       "</table>\n",
       "<p>89 rows × 4 columns</p>\n",
       "</div>"
      ],
      "text/plain": [
       "          sp   EurAsia  Real_Estate  Commodity\n",
       "1   0.037762  0.043807    -0.009725   0.079894\n",
       "2   0.032713  0.004522     0.038322  -0.015849\n",
       "3  -0.009316 -0.028093     0.034129  -0.019524\n",
       "4  -0.090894 -0.137484    -0.076239  -0.156250\n",
       "5   0.068441  0.105512     0.082808   0.031008\n",
       "..       ...       ...          ...        ...\n",
       "85  0.057368  0.035352     0.001521   0.049428\n",
       "86  0.070430  0.028296     0.013770   0.046954\n",
       "87 -0.041356 -0.015834    -0.028864  -0.047209\n",
       "88 -0.020871 -0.028585    -0.024425   0.008015\n",
       "89  0.106400  0.154527     0.098461   0.107850\n",
       "\n",
       "[89 rows x 4 columns]"
      ]
     },
     "execution_count": 14,
     "metadata": {},
     "output_type": "execute_result"
    }
   ],
   "source": [
    "df_1 = df_buyHold.loc[:,'sp'].pct_change()\n",
    "df_2 = df_buyHold.loc[:,'EurAsia'].pct_change()\n",
    "df_3 = df_buyHold.loc[:,'Real_Estate'].pct_change()\n",
    "df_4 = df_buyHold.loc[:,'Commodity'].pct_change()\n",
    "\n",
    "df_buyHold_return = pd.concat([df_1,df_2,df_3,df_4], axis=1)\n",
    "df_buyHold_return = df_buyHold_return.dropna()\n",
    "df_buyHold_return"
   ]
  },
  {
   "cell_type": "markdown",
   "id": "80a638c7",
   "metadata": {},
   "source": [
    "# Variance of Portfolio"
   ]
  },
  {
   "cell_type": "code",
   "execution_count": 15,
   "id": "48084edf",
   "metadata": {},
   "outputs": [
    {
     "data": {
      "text/plain": [
       "89"
      ]
     },
     "execution_count": 15,
     "metadata": {},
     "output_type": "execute_result"
    }
   ],
   "source": [
    "Variance = []\n",
    "\n",
    "for i in range(2,len(df_buyHold_return)+2):\n",
    "    covariance = df_buyHold_return.iloc[:i,:].cov()    \n",
    "    \n",
    "    current_Var = 0\n",
    "    for i in range(4):\n",
    "        for j in range(4):\n",
    "            current_Var += W[i] * W[j] * covariance.iloc[i, j]\n",
    "    Variance.append(current_Var)        \n",
    "\n",
    "    \n",
    "len(Variance)"
   ]
  },
  {
   "cell_type": "markdown",
   "id": "252ec6a8",
   "metadata": {},
   "source": [
    "## Sharp Ratio"
   ]
  },
  {
   "cell_type": "code",
   "execution_count": 16,
   "id": "62564f1a",
   "metadata": {},
   "outputs": [
    {
     "data": {
      "text/plain": [
       "89"
      ]
     },
     "execution_count": 16,
     "metadata": {},
     "output_type": "execute_result"
    }
   ],
   "source": [
    "sharp = []\n",
    "risk_free_rate=0.01\n",
    "for i in range(1,len(Return)+1):\n",
    "    sharp_each = (Return[i] - risk_free_rate)/np.sqrt(Variance[i-1])\n",
    "    sharp.append(sharp_each)\n",
    "    \n",
    "len(sharp)"
   ]
  },
  {
   "cell_type": "markdown",
   "id": "e2a40ef9",
   "metadata": {},
   "source": [
    "## MDD"
   ]
  },
  {
   "cell_type": "code",
   "execution_count": 17,
   "id": "43248598",
   "metadata": {},
   "outputs": [
    {
     "data": {
      "text/plain": [
       "0     1.000000e+06\n",
       "1     1.040032e+06\n",
       "2     1.053291e+06\n",
       "3     1.031866e+06\n",
       "4     9.050665e+05\n",
       "          ...     \n",
       "85    1.752895e+06\n",
       "86    1.827091e+06\n",
       "87    1.780592e+06\n",
       "88    1.734942e+06\n",
       "89    1.969960e+06\n",
       "Name: Total_Price, Length: 90, dtype: float64"
      ]
     },
     "execution_count": 17,
     "metadata": {},
     "output_type": "execute_result"
    }
   ],
   "source": [
    "Total_Price = df_buyHold.loc[:,'Total_Price']\n",
    "Total_Price"
   ]
  },
  {
   "cell_type": "code",
   "execution_count": 18,
   "id": "7c0b07bc",
   "metadata": {},
   "outputs": [
    {
     "data": {
      "text/plain": [
       "89"
      ]
     },
     "execution_count": 18,
     "metadata": {},
     "output_type": "execute_result"
    }
   ],
   "source": [
    "MDD = []\n",
    "for i in range(1,len(Total_Price)):\n",
    "    minimum = min(Total_Price[:i+1])\n",
    "    maximum = max(Total_Price[:i+1])\n",
    "                  \n",
    "    current_MDD = (minimum-maximum)/maximum\n",
    "    MDD.append(current_MDD)\n",
    "    \n",
    "len(MDD)"
   ]
  },
  {
   "cell_type": "code",
   "execution_count": 19,
   "id": "5226d753",
   "metadata": {
    "scrolled": true
   },
   "outputs": [
    {
     "data": {
      "text/html": [
       "<div>\n",
       "<style scoped>\n",
       "    .dataframe tbody tr th:only-of-type {\n",
       "        vertical-align: middle;\n",
       "    }\n",
       "\n",
       "    .dataframe tbody tr th {\n",
       "        vertical-align: top;\n",
       "    }\n",
       "\n",
       "    .dataframe thead th {\n",
       "        text-align: right;\n",
       "    }\n",
       "</style>\n",
       "<table border=\"1\" class=\"dataframe\">\n",
       "  <thead>\n",
       "    <tr style=\"text-align: right;\">\n",
       "      <th></th>\n",
       "      <th>Return</th>\n",
       "      <th>Variance</th>\n",
       "      <th>Sharp_ratio</th>\n",
       "      <th>MDD</th>\n",
       "    </tr>\n",
       "  </thead>\n",
       "  <tbody>\n",
       "    <tr>\n",
       "      <th>1</th>\n",
       "      <td>0.040032</td>\n",
       "      <td>0.000369</td>\n",
       "      <td>1.562567</td>\n",
       "      <td>-0.038491</td>\n",
       "    </tr>\n",
       "    <tr>\n",
       "      <th>2</th>\n",
       "      <td>0.012748</td>\n",
       "      <td>0.000914</td>\n",
       "      <td>0.090876</td>\n",
       "      <td>-0.050594</td>\n",
       "    </tr>\n",
       "    <tr>\n",
       "      <th>3</th>\n",
       "      <td>-0.020341</td>\n",
       "      <td>0.005109</td>\n",
       "      <td>-0.424503</td>\n",
       "      <td>-0.050594</td>\n",
       "    </tr>\n",
       "    <tr>\n",
       "      <th>4</th>\n",
       "      <td>-0.122883</td>\n",
       "      <td>0.006584</td>\n",
       "      <td>-1.637619</td>\n",
       "      <td>-0.140725</td>\n",
       "    </tr>\n",
       "    <tr>\n",
       "      <th>5</th>\n",
       "      <td>0.093959</td>\n",
       "      <td>0.005268</td>\n",
       "      <td>1.156768</td>\n",
       "      <td>-0.140725</td>\n",
       "    </tr>\n",
       "    <tr>\n",
       "      <th>...</th>\n",
       "      <td>...</td>\n",
       "      <td>...</td>\n",
       "      <td>...</td>\n",
       "      <td>...</td>\n",
       "    </tr>\n",
       "    <tr>\n",
       "      <th>85</th>\n",
       "      <td>0.041530</td>\n",
       "      <td>0.002111</td>\n",
       "      <td>0.686215</td>\n",
       "      <td>-0.501691</td>\n",
       "    </tr>\n",
       "    <tr>\n",
       "      <th>86</th>\n",
       "      <td>0.042328</td>\n",
       "      <td>0.002098</td>\n",
       "      <td>0.705866</td>\n",
       "      <td>-0.504641</td>\n",
       "    </tr>\n",
       "    <tr>\n",
       "      <th>87</th>\n",
       "      <td>-0.025450</td>\n",
       "      <td>0.002086</td>\n",
       "      <td>-0.776127</td>\n",
       "      <td>-0.504641</td>\n",
       "    </tr>\n",
       "    <tr>\n",
       "      <th>88</th>\n",
       "      <td>-0.025637</td>\n",
       "      <td>0.002260</td>\n",
       "      <td>-0.749673</td>\n",
       "      <td>-0.504641</td>\n",
       "    </tr>\n",
       "    <tr>\n",
       "      <th>89</th>\n",
       "      <td>0.135461</td>\n",
       "      <td>0.002260</td>\n",
       "      <td>2.639242</td>\n",
       "      <td>-0.540566</td>\n",
       "    </tr>\n",
       "  </tbody>\n",
       "</table>\n",
       "<p>89 rows × 4 columns</p>\n",
       "</div>"
      ],
      "text/plain": [
       "      Return  Variance  Sharp_ratio       MDD\n",
       "1   0.040032  0.000369     1.562567 -0.038491\n",
       "2   0.012748  0.000914     0.090876 -0.050594\n",
       "3  -0.020341  0.005109    -0.424503 -0.050594\n",
       "4  -0.122883  0.006584    -1.637619 -0.140725\n",
       "5   0.093959  0.005268     1.156768 -0.140725\n",
       "..       ...       ...          ...       ...\n",
       "85  0.041530  0.002111     0.686215 -0.501691\n",
       "86  0.042328  0.002098     0.705866 -0.504641\n",
       "87 -0.025450  0.002086    -0.776127 -0.504641\n",
       "88 -0.025637  0.002260    -0.749673 -0.504641\n",
       "89  0.135461  0.002260     2.639242 -0.540566\n",
       "\n",
       "[89 rows x 4 columns]"
      ]
     },
     "execution_count": 19,
     "metadata": {},
     "output_type": "execute_result"
    }
   ],
   "source": [
    "Eval_BuyHold = pd.DataFrame(\n",
    "    {\"Return\": Return,\n",
    "    \"Variance\": Variance,\n",
    "    \"Sharp_ratio\": sharp,\n",
    "    \"MDD\": MDD})\n",
    "Eval_BuyHold"
   ]
  },
  {
   "cell_type": "code",
   "execution_count": 20,
   "id": "240bcadd",
   "metadata": {},
   "outputs": [
    {
     "name": "stdout",
     "output_type": "stream",
     "text": [
      "Return의 mean:  0.008792010377117571\n",
      "Variance의 mean:  0.002110065389163123\n",
      "Sharp_ratio의 mean:  -0.019826510205170882\n",
      "MDD의 mean:  -0.375791230549409\n"
     ]
    }
   ],
   "source": [
    "print(\"Return의 mean: \", Eval_BuyHold['Return'].mean())\n",
    "print(\"Variance의 mean: \", Eval_BuyHold['Variance'].mean())\n",
    "print(\"Sharp_ratio의 mean: \", Eval_BuyHold['Sharp_ratio'].mean())\n",
    "print(\"MDD의 mean: \", Eval_BuyHold['MDD'].mean())\n"
   ]
  },
  {
   "cell_type": "code",
   "execution_count": 21,
   "id": "0d25dbf9",
   "metadata": {},
   "outputs": [
    {
     "data": {
      "text/plain": [
       "<AxesSubplot: >"
      ]
     },
     "execution_count": 21,
     "metadata": {},
     "output_type": "execute_result"
    },
    {
     "data": {
      "image/png": "[encoded data removed]",
      "text/plain": [
       "<Figure size 640x480 with 1 Axes>"
      ]
     },
     "metadata": {},
     "output_type": "display_data"
    }
   ],
   "source": [
    "Eval_BuyHold.plot()"
   ]
  },
  {
   "cell_type": "code",
   "execution_count": null,
   "id": "27195eef",
   "metadata": {},
   "outputs": [],
   "source": []
  }
 ],
 "metadata": {
  "kernelspec": {
   "display_name": "Python 3 (ipykernel)",
   "language": "python",
   "name": "python3"
  },
  "language_info": {
   "codemirror_mode": {
    "name": "ipython",
    "version": 3
   },
   "file_extension": ".py",
   "mimetype": "text/x-python",
   "name": "python",
   "nbconvert_exporter": "python",
   "pygments_lexer": "ipython3",
   "version": "3.10.7"
  }
 },
 "nbformat": 4,
 "nbformat_minor": 5
}
