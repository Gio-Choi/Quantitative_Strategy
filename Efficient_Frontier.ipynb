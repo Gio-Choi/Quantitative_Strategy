{
 "cells": [
  {
   "cell_type": "code",
   "execution_count": 2,
   "id": "b7829467",
   "metadata": {},
   "outputs": [],
   "source": [
    "import pandas as pd\n",
    "\n",
    "first_df = pd.read_csv('First_Day_Dataset.csv')\n",
    "# last_df = pd.read_csv('Last_Day_Dataset.csv')"
   ]
  },
  {
   "cell_type": "code",
   "execution_count": 3,
   "id": "6b3350f3",
   "metadata": {},
   "outputs": [
    {
     "data": {
      "text/html": [
       "<div>\n",
       "<style scoped>\n",
       "    .dataframe tbody tr th:only-of-type {\n",
       "        vertical-align: middle;\n",
       "    }\n",
       "\n",
       "    .dataframe tbody tr th {\n",
       "        vertical-align: top;\n",
       "    }\n",
       "\n",
       "    .dataframe thead th {\n",
       "        text-align: right;\n",
       "    }\n",
       "</style>\n",
       "<table border=\"1\" class=\"dataframe\">\n",
       "  <thead>\n",
       "    <tr style=\"text-align: right;\">\n",
       "      <th></th>\n",
       "      <th>Unnamed: 0</th>\n",
       "      <th>^GSPC</th>\n",
       "      <th>EFA</th>\n",
       "      <th>^FNAR</th>\n",
       "      <th>GD=F</th>\n",
       "    </tr>\n",
       "  </thead>\n",
       "  <tbody>\n",
       "    <tr>\n",
       "      <th>0</th>\n",
       "      <td>2012-02-01</td>\n",
       "      <td>1324.089966</td>\n",
       "      <td>38.426586</td>\n",
       "      <td>147.039993</td>\n",
       "      <td>660.250000</td>\n",
       "    </tr>\n",
       "    <tr>\n",
       "      <th>1</th>\n",
       "      <td>2012-03-01</td>\n",
       "      <td>1374.089966</td>\n",
       "      <td>40.109928</td>\n",
       "      <td>145.610001</td>\n",
       "      <td>713.000000</td>\n",
       "    </tr>\n",
       "    <tr>\n",
       "      <th>2</th>\n",
       "      <td>2012-04-02</td>\n",
       "      <td>1419.040039</td>\n",
       "      <td>40.291321</td>\n",
       "      <td>151.190002</td>\n",
       "      <td>701.700012</td>\n",
       "    </tr>\n",
       "    <tr>\n",
       "      <th>3</th>\n",
       "      <td>2012-05-01</td>\n",
       "      <td>1405.819946</td>\n",
       "      <td>39.159424</td>\n",
       "      <td>156.350006</td>\n",
       "      <td>688.000000</td>\n",
       "    </tr>\n",
       "    <tr>\n",
       "      <th>4</th>\n",
       "      <td>2012-06-01</td>\n",
       "      <td>1278.040039</td>\n",
       "      <td>33.775635</td>\n",
       "      <td>144.429993</td>\n",
       "      <td>580.500000</td>\n",
       "    </tr>\n",
       "    <tr>\n",
       "      <th>...</th>\n",
       "      <td>...</td>\n",
       "      <td>...</td>\n",
       "      <td>...</td>\n",
       "      <td>...</td>\n",
       "      <td>...</td>\n",
       "    </tr>\n",
       "    <tr>\n",
       "      <th>85</th>\n",
       "      <td>2020-08-03</td>\n",
       "      <td>3294.610107</td>\n",
       "      <td>59.312443</td>\n",
       "      <td>197.529999</td>\n",
       "      <td>343.950012</td>\n",
       "    </tr>\n",
       "    <tr>\n",
       "      <th>86</th>\n",
       "      <td>2020-09-01</td>\n",
       "      <td>3526.649902</td>\n",
       "      <td>60.990746</td>\n",
       "      <td>200.250000</td>\n",
       "      <td>360.100006</td>\n",
       "    </tr>\n",
       "    <tr>\n",
       "      <th>87</th>\n",
       "      <td>2020-10-01</td>\n",
       "      <td>3380.800049</td>\n",
       "      <td>60.025017</td>\n",
       "      <td>194.470001</td>\n",
       "      <td>343.100006</td>\n",
       "    </tr>\n",
       "    <tr>\n",
       "      <th>88</th>\n",
       "      <td>2020-11-02</td>\n",
       "      <td>3310.239990</td>\n",
       "      <td>58.309212</td>\n",
       "      <td>189.720001</td>\n",
       "      <td>345.850006</td>\n",
       "    </tr>\n",
       "    <tr>\n",
       "      <th>89</th>\n",
       "      <td>2020-12-01</td>\n",
       "      <td>3662.449951</td>\n",
       "      <td>67.319534</td>\n",
       "      <td>208.399994</td>\n",
       "      <td>383.149994</td>\n",
       "    </tr>\n",
       "  </tbody>\n",
       "</table>\n",
       "<p>90 rows × 5 columns</p>\n",
       "</div>"
      ],
      "text/plain": [
       "    Unnamed: 0        ^GSPC        EFA       ^FNAR        GD=F\n",
       "0   2012-02-01  1324.089966  38.426586  147.039993  660.250000\n",
       "1   2012-03-01  1374.089966  40.109928  145.610001  713.000000\n",
       "2   2012-04-02  1419.040039  40.291321  151.190002  701.700012\n",
       "3   2012-05-01  1405.819946  39.159424  156.350006  688.000000\n",
       "4   2012-06-01  1278.040039  33.775635  144.429993  580.500000\n",
       "..         ...          ...        ...         ...         ...\n",
       "85  2020-08-03  3294.610107  59.312443  197.529999  343.950012\n",
       "86  2020-09-01  3526.649902  60.990746  200.250000  360.100006\n",
       "87  2020-10-01  3380.800049  60.025017  194.470001  343.100006\n",
       "88  2020-11-02  3310.239990  58.309212  189.720001  345.850006\n",
       "89  2020-12-01  3662.449951  67.319534  208.399994  383.149994\n",
       "\n",
       "[90 rows x 5 columns]"
      ]
     },
     "execution_count": 3,
     "metadata": {},
     "output_type": "execute_result"
    }
   ],
   "source": [
    "#매달 첫 영업일\n",
    "first_df"
   ]
  },
  {
   "cell_type": "markdown",
   "id": "1be77281",
   "metadata": {},
   "source": [
    "## 가격 데이터프레임을 수익률 데이터 프레임으로 바꿔주기"
   ]
  },
  {
   "cell_type": "code",
   "execution_count": 49,
   "id": "357fa221",
   "metadata": {},
   "outputs": [],
   "source": [
    "pct_df = first_df"
   ]
  },
  {
   "cell_type": "code",
   "execution_count": 50,
   "id": "9699c86d",
   "metadata": {},
   "outputs": [
    {
     "data": {
      "text/html": [
       "<div>\n",
       "<style scoped>\n",
       "    .dataframe tbody tr th:only-of-type {\n",
       "        vertical-align: middle;\n",
       "    }\n",
       "\n",
       "    .dataframe tbody tr th {\n",
       "        vertical-align: top;\n",
       "    }\n",
       "\n",
       "    .dataframe thead th {\n",
       "        text-align: right;\n",
       "    }\n",
       "</style>\n",
       "<table border=\"1\" class=\"dataframe\">\n",
       "  <thead>\n",
       "    <tr style=\"text-align: right;\">\n",
       "      <th></th>\n",
       "      <th>Unnamed: 0</th>\n",
       "      <th>^GSPC</th>\n",
       "      <th>EFA</th>\n",
       "      <th>^FNAR</th>\n",
       "      <th>GD=F</th>\n",
       "      <th>S&amp;P</th>\n",
       "      <th>EurAsia</th>\n",
       "      <th>Real_Estate</th>\n",
       "      <th>Commodity</th>\n",
       "    </tr>\n",
       "  </thead>\n",
       "  <tbody>\n",
       "    <tr>\n",
       "      <th>0</th>\n",
       "      <td>2012-02-01</td>\n",
       "      <td>1324.089966</td>\n",
       "      <td>38.426586</td>\n",
       "      <td>147.039993</td>\n",
       "      <td>660.250000</td>\n",
       "      <td>NaN</td>\n",
       "      <td>NaN</td>\n",
       "      <td>NaN</td>\n",
       "      <td>NaN</td>\n",
       "    </tr>\n",
       "    <tr>\n",
       "      <th>1</th>\n",
       "      <td>2012-03-01</td>\n",
       "      <td>1374.089966</td>\n",
       "      <td>40.109928</td>\n",
       "      <td>145.610001</td>\n",
       "      <td>713.000000</td>\n",
       "      <td>0.037762</td>\n",
       "      <td>0.043807</td>\n",
       "      <td>-0.009725</td>\n",
       "      <td>0.079894</td>\n",
       "    </tr>\n",
       "    <tr>\n",
       "      <th>2</th>\n",
       "      <td>2012-04-02</td>\n",
       "      <td>1419.040039</td>\n",
       "      <td>40.291321</td>\n",
       "      <td>151.190002</td>\n",
       "      <td>701.700012</td>\n",
       "      <td>0.032713</td>\n",
       "      <td>0.004522</td>\n",
       "      <td>0.038322</td>\n",
       "      <td>-0.015849</td>\n",
       "    </tr>\n",
       "    <tr>\n",
       "      <th>3</th>\n",
       "      <td>2012-05-01</td>\n",
       "      <td>1405.819946</td>\n",
       "      <td>39.159424</td>\n",
       "      <td>156.350006</td>\n",
       "      <td>688.000000</td>\n",
       "      <td>-0.009316</td>\n",
       "      <td>-0.028093</td>\n",
       "      <td>0.034129</td>\n",
       "      <td>-0.019524</td>\n",
       "    </tr>\n",
       "    <tr>\n",
       "      <th>4</th>\n",
       "      <td>2012-06-01</td>\n",
       "      <td>1278.040039</td>\n",
       "      <td>33.775635</td>\n",
       "      <td>144.429993</td>\n",
       "      <td>580.500000</td>\n",
       "      <td>-0.090894</td>\n",
       "      <td>-0.137484</td>\n",
       "      <td>-0.076239</td>\n",
       "      <td>-0.156250</td>\n",
       "    </tr>\n",
       "    <tr>\n",
       "      <th>...</th>\n",
       "      <td>...</td>\n",
       "      <td>...</td>\n",
       "      <td>...</td>\n",
       "      <td>...</td>\n",
       "      <td>...</td>\n",
       "      <td>...</td>\n",
       "      <td>...</td>\n",
       "      <td>...</td>\n",
       "      <td>...</td>\n",
       "    </tr>\n",
       "    <tr>\n",
       "      <th>85</th>\n",
       "      <td>2020-08-03</td>\n",
       "      <td>3294.610107</td>\n",
       "      <td>59.312443</td>\n",
       "      <td>197.529999</td>\n",
       "      <td>343.950012</td>\n",
       "      <td>0.057368</td>\n",
       "      <td>0.035352</td>\n",
       "      <td>0.001521</td>\n",
       "      <td>0.049428</td>\n",
       "    </tr>\n",
       "    <tr>\n",
       "      <th>86</th>\n",
       "      <td>2020-09-01</td>\n",
       "      <td>3526.649902</td>\n",
       "      <td>60.990746</td>\n",
       "      <td>200.250000</td>\n",
       "      <td>360.100006</td>\n",
       "      <td>0.070430</td>\n",
       "      <td>0.028296</td>\n",
       "      <td>0.013770</td>\n",
       "      <td>0.046954</td>\n",
       "    </tr>\n",
       "    <tr>\n",
       "      <th>87</th>\n",
       "      <td>2020-10-01</td>\n",
       "      <td>3380.800049</td>\n",
       "      <td>60.025017</td>\n",
       "      <td>194.470001</td>\n",
       "      <td>343.100006</td>\n",
       "      <td>-0.041356</td>\n",
       "      <td>-0.015834</td>\n",
       "      <td>-0.028864</td>\n",
       "      <td>-0.047209</td>\n",
       "    </tr>\n",
       "    <tr>\n",
       "      <th>88</th>\n",
       "      <td>2020-11-02</td>\n",
       "      <td>3310.239990</td>\n",
       "      <td>58.309212</td>\n",
       "      <td>189.720001</td>\n",
       "      <td>345.850006</td>\n",
       "      <td>-0.020871</td>\n",
       "      <td>-0.028585</td>\n",
       "      <td>-0.024425</td>\n",
       "      <td>0.008015</td>\n",
       "    </tr>\n",
       "    <tr>\n",
       "      <th>89</th>\n",
       "      <td>2020-12-01</td>\n",
       "      <td>3662.449951</td>\n",
       "      <td>67.319534</td>\n",
       "      <td>208.399994</td>\n",
       "      <td>383.149994</td>\n",
       "      <td>0.106400</td>\n",
       "      <td>0.154527</td>\n",
       "      <td>0.098461</td>\n",
       "      <td>0.107850</td>\n",
       "    </tr>\n",
       "  </tbody>\n",
       "</table>\n",
       "<p>90 rows × 9 columns</p>\n",
       "</div>"
      ],
      "text/plain": [
       "    Unnamed: 0        ^GSPC        EFA       ^FNAR        GD=F       S&P  \\\n",
       "0   2012-02-01  1324.089966  38.426586  147.039993  660.250000       NaN   \n",
       "1   2012-03-01  1374.089966  40.109928  145.610001  713.000000  0.037762   \n",
       "2   2012-04-02  1419.040039  40.291321  151.190002  701.700012  0.032713   \n",
       "3   2012-05-01  1405.819946  39.159424  156.350006  688.000000 -0.009316   \n",
       "4   2012-06-01  1278.040039  33.775635  144.429993  580.500000 -0.090894   \n",
       "..         ...          ...        ...         ...         ...       ...   \n",
       "85  2020-08-03  3294.610107  59.312443  197.529999  343.950012  0.057368   \n",
       "86  2020-09-01  3526.649902  60.990746  200.250000  360.100006  0.070430   \n",
       "87  2020-10-01  3380.800049  60.025017  194.470001  343.100006 -0.041356   \n",
       "88  2020-11-02  3310.239990  58.309212  189.720001  345.850006 -0.020871   \n",
       "89  2020-12-01  3662.449951  67.319534  208.399994  383.149994  0.106400   \n",
       "\n",
       "     EurAsia  Real_Estate  Commodity  \n",
       "0        NaN          NaN        NaN  \n",
       "1   0.043807    -0.009725   0.079894  \n",
       "2   0.004522     0.038322  -0.015849  \n",
       "3  -0.028093     0.034129  -0.019524  \n",
       "4  -0.137484    -0.076239  -0.156250  \n",
       "..       ...          ...        ...  \n",
       "85  0.035352     0.001521   0.049428  \n",
       "86  0.028296     0.013770   0.046954  \n",
       "87 -0.015834    -0.028864  -0.047209  \n",
       "88 -0.028585    -0.024425   0.008015  \n",
       "89  0.154527     0.098461   0.107850  \n",
       "\n",
       "[90 rows x 9 columns]"
      ]
     },
     "execution_count": 50,
     "metadata": {},
     "output_type": "execute_result"
    }
   ],
   "source": [
    "pct_df['S&P'] = pct_df.loc[:,'^GSPC'].pct_change()\n",
    "pct_df['EurAsia'] = pct_df.loc[:,'EFA'].pct_change()\n",
    "pct_df['Real_Estate'] = pct_df.loc[:,'^FNAR'].pct_change()\n",
    "pct_df['Commodity'] = pct_df.loc[:,'GD=F'].pct_change()\n",
    "\n",
    "pct_df\n"
   ]
  },
  {
   "cell_type": "code",
   "execution_count": 51,
   "id": "7ca4c353",
   "metadata": {},
   "outputs": [],
   "source": [
    "pct_df = pct_df.drop(['^GSPC', 'EFA', '^FNAR', 'GD=F'] , axis=1)"
   ]
  },
  {
   "cell_type": "code",
   "execution_count": 52,
   "id": "78c2f7e6",
   "metadata": {
    "scrolled": true
   },
   "outputs": [
    {
     "data": {
      "text/html": [
       "<div>\n",
       "<style scoped>\n",
       "    .dataframe tbody tr th:only-of-type {\n",
       "        vertical-align: middle;\n",
       "    }\n",
       "\n",
       "    .dataframe tbody tr th {\n",
       "        vertical-align: top;\n",
       "    }\n",
       "\n",
       "    .dataframe thead th {\n",
       "        text-align: right;\n",
       "    }\n",
       "</style>\n",
       "<table border=\"1\" class=\"dataframe\">\n",
       "  <thead>\n",
       "    <tr style=\"text-align: right;\">\n",
       "      <th></th>\n",
       "      <th>Unnamed: 0</th>\n",
       "      <th>S&amp;P</th>\n",
       "      <th>EurAsia</th>\n",
       "      <th>Real_Estate</th>\n",
       "      <th>Commodity</th>\n",
       "    </tr>\n",
       "  </thead>\n",
       "  <tbody>\n",
       "    <tr>\n",
       "      <th>1</th>\n",
       "      <td>2012-03-01</td>\n",
       "      <td>0.037762</td>\n",
       "      <td>0.043807</td>\n",
       "      <td>-0.009725</td>\n",
       "      <td>0.079894</td>\n",
       "    </tr>\n",
       "    <tr>\n",
       "      <th>2</th>\n",
       "      <td>2012-04-02</td>\n",
       "      <td>0.032713</td>\n",
       "      <td>0.004522</td>\n",
       "      <td>0.038322</td>\n",
       "      <td>-0.015849</td>\n",
       "    </tr>\n",
       "    <tr>\n",
       "      <th>3</th>\n",
       "      <td>2012-05-01</td>\n",
       "      <td>-0.009316</td>\n",
       "      <td>-0.028093</td>\n",
       "      <td>0.034129</td>\n",
       "      <td>-0.019524</td>\n",
       "    </tr>\n",
       "    <tr>\n",
       "      <th>4</th>\n",
       "      <td>2012-06-01</td>\n",
       "      <td>-0.090894</td>\n",
       "      <td>-0.137484</td>\n",
       "      <td>-0.076239</td>\n",
       "      <td>-0.156250</td>\n",
       "    </tr>\n",
       "    <tr>\n",
       "      <th>5</th>\n",
       "      <td>2012-07-02</td>\n",
       "      <td>0.068441</td>\n",
       "      <td>0.105512</td>\n",
       "      <td>0.082808</td>\n",
       "      <td>0.031008</td>\n",
       "    </tr>\n",
       "    <tr>\n",
       "      <th>...</th>\n",
       "      <td>...</td>\n",
       "      <td>...</td>\n",
       "      <td>...</td>\n",
       "      <td>...</td>\n",
       "      <td>...</td>\n",
       "    </tr>\n",
       "    <tr>\n",
       "      <th>85</th>\n",
       "      <td>2020-08-03</td>\n",
       "      <td>0.057368</td>\n",
       "      <td>0.035352</td>\n",
       "      <td>0.001521</td>\n",
       "      <td>0.049428</td>\n",
       "    </tr>\n",
       "    <tr>\n",
       "      <th>86</th>\n",
       "      <td>2020-09-01</td>\n",
       "      <td>0.070430</td>\n",
       "      <td>0.028296</td>\n",
       "      <td>0.013770</td>\n",
       "      <td>0.046954</td>\n",
       "    </tr>\n",
       "    <tr>\n",
       "      <th>87</th>\n",
       "      <td>2020-10-01</td>\n",
       "      <td>-0.041356</td>\n",
       "      <td>-0.015834</td>\n",
       "      <td>-0.028864</td>\n",
       "      <td>-0.047209</td>\n",
       "    </tr>\n",
       "    <tr>\n",
       "      <th>88</th>\n",
       "      <td>2020-11-02</td>\n",
       "      <td>-0.020871</td>\n",
       "      <td>-0.028585</td>\n",
       "      <td>-0.024425</td>\n",
       "      <td>0.008015</td>\n",
       "    </tr>\n",
       "    <tr>\n",
       "      <th>89</th>\n",
       "      <td>2020-12-01</td>\n",
       "      <td>0.106400</td>\n",
       "      <td>0.154527</td>\n",
       "      <td>0.098461</td>\n",
       "      <td>0.107850</td>\n",
       "    </tr>\n",
       "  </tbody>\n",
       "</table>\n",
       "<p>89 rows × 5 columns</p>\n",
       "</div>"
      ],
      "text/plain": [
       "    Unnamed: 0       S&P   EurAsia  Real_Estate  Commodity\n",
       "1   2012-03-01  0.037762  0.043807    -0.009725   0.079894\n",
       "2   2012-04-02  0.032713  0.004522     0.038322  -0.015849\n",
       "3   2012-05-01 -0.009316 -0.028093     0.034129  -0.019524\n",
       "4   2012-06-01 -0.090894 -0.137484    -0.076239  -0.156250\n",
       "5   2012-07-02  0.068441  0.105512     0.082808   0.031008\n",
       "..         ...       ...       ...          ...        ...\n",
       "85  2020-08-03  0.057368  0.035352     0.001521   0.049428\n",
       "86  2020-09-01  0.070430  0.028296     0.013770   0.046954\n",
       "87  2020-10-01 -0.041356 -0.015834    -0.028864  -0.047209\n",
       "88  2020-11-02 -0.020871 -0.028585    -0.024425   0.008015\n",
       "89  2020-12-01  0.106400  0.154527     0.098461   0.107850\n",
       "\n",
       "[89 rows x 5 columns]"
      ]
     },
     "execution_count": 52,
     "metadata": {},
     "output_type": "execute_result"
    }
   ],
   "source": [
    "pct_df = pct_df.dropna()\n",
    "pct_df\n"
   ]
  },
  {
   "cell_type": "code",
   "execution_count": 53,
   "id": "d8f11326",
   "metadata": {},
   "outputs": [
    {
     "data": {
      "text/html": [
       "<div>\n",
       "<style scoped>\n",
       "    .dataframe tbody tr th:only-of-type {\n",
       "        vertical-align: middle;\n",
       "    }\n",
       "\n",
       "    .dataframe tbody tr th {\n",
       "        vertical-align: top;\n",
       "    }\n",
       "\n",
       "    .dataframe thead th {\n",
       "        text-align: right;\n",
       "    }\n",
       "</style>\n",
       "<table border=\"1\" class=\"dataframe\">\n",
       "  <thead>\n",
       "    <tr style=\"text-align: right;\">\n",
       "      <th></th>\n",
       "      <th>S&amp;P</th>\n",
       "      <th>EurAsia</th>\n",
       "      <th>Real_Estate</th>\n",
       "      <th>Commodity</th>\n",
       "    </tr>\n",
       "  </thead>\n",
       "  <tbody>\n",
       "    <tr>\n",
       "      <th>1</th>\n",
       "      <td>0.037762</td>\n",
       "      <td>0.043807</td>\n",
       "      <td>-0.009725</td>\n",
       "      <td>0.079894</td>\n",
       "    </tr>\n",
       "    <tr>\n",
       "      <th>2</th>\n",
       "      <td>0.032713</td>\n",
       "      <td>0.004522</td>\n",
       "      <td>0.038322</td>\n",
       "      <td>-0.015849</td>\n",
       "    </tr>\n",
       "    <tr>\n",
       "      <th>3</th>\n",
       "      <td>-0.009316</td>\n",
       "      <td>-0.028093</td>\n",
       "      <td>0.034129</td>\n",
       "      <td>-0.019524</td>\n",
       "    </tr>\n",
       "    <tr>\n",
       "      <th>4</th>\n",
       "      <td>-0.090894</td>\n",
       "      <td>-0.137484</td>\n",
       "      <td>-0.076239</td>\n",
       "      <td>-0.156250</td>\n",
       "    </tr>\n",
       "    <tr>\n",
       "      <th>5</th>\n",
       "      <td>0.068441</td>\n",
       "      <td>0.105512</td>\n",
       "      <td>0.082808</td>\n",
       "      <td>0.031008</td>\n",
       "    </tr>\n",
       "    <tr>\n",
       "      <th>...</th>\n",
       "      <td>...</td>\n",
       "      <td>...</td>\n",
       "      <td>...</td>\n",
       "      <td>...</td>\n",
       "    </tr>\n",
       "    <tr>\n",
       "      <th>85</th>\n",
       "      <td>0.057368</td>\n",
       "      <td>0.035352</td>\n",
       "      <td>0.001521</td>\n",
       "      <td>0.049428</td>\n",
       "    </tr>\n",
       "    <tr>\n",
       "      <th>86</th>\n",
       "      <td>0.070430</td>\n",
       "      <td>0.028296</td>\n",
       "      <td>0.013770</td>\n",
       "      <td>0.046954</td>\n",
       "    </tr>\n",
       "    <tr>\n",
       "      <th>87</th>\n",
       "      <td>-0.041356</td>\n",
       "      <td>-0.015834</td>\n",
       "      <td>-0.028864</td>\n",
       "      <td>-0.047209</td>\n",
       "    </tr>\n",
       "    <tr>\n",
       "      <th>88</th>\n",
       "      <td>-0.020871</td>\n",
       "      <td>-0.028585</td>\n",
       "      <td>-0.024425</td>\n",
       "      <td>0.008015</td>\n",
       "    </tr>\n",
       "    <tr>\n",
       "      <th>89</th>\n",
       "      <td>0.106400</td>\n",
       "      <td>0.154527</td>\n",
       "      <td>0.098461</td>\n",
       "      <td>0.107850</td>\n",
       "    </tr>\n",
       "  </tbody>\n",
       "</table>\n",
       "<p>89 rows × 4 columns</p>\n",
       "</div>"
      ],
      "text/plain": [
       "         S&P   EurAsia  Real_Estate  Commodity\n",
       "1   0.037762  0.043807    -0.009725   0.079894\n",
       "2   0.032713  0.004522     0.038322  -0.015849\n",
       "3  -0.009316 -0.028093     0.034129  -0.019524\n",
       "4  -0.090894 -0.137484    -0.076239  -0.156250\n",
       "5   0.068441  0.105512     0.082808   0.031008\n",
       "..       ...       ...          ...        ...\n",
       "85  0.057368  0.035352     0.001521   0.049428\n",
       "86  0.070430  0.028296     0.013770   0.046954\n",
       "87 -0.041356 -0.015834    -0.028864  -0.047209\n",
       "88 -0.020871 -0.028585    -0.024425   0.008015\n",
       "89  0.106400  0.154527     0.098461   0.107850\n",
       "\n",
       "[89 rows x 4 columns]"
      ]
     },
     "execution_count": 53,
     "metadata": {},
     "output_type": "execute_result"
    }
   ],
   "source": [
    "pct_df = pct_df.drop(['Unnamed: 0'] , axis=1)\n",
    "pct_df"
   ]
  },
  {
   "cell_type": "markdown",
   "id": "16947f6c",
   "metadata": {},
   "source": [
    "# 초기 투자 비중 설정 \n",
    "\n",
    "### 단순히 2:1:1:1로 하려고 하였으나 최적화 관점에서 옳지 않다는 평을 받았습니다. \n",
    "\n",
    "### 따라서 efficient frontier 관점에서 구해보는 것이 어떨까하며 시도해보았습니다. \n",
    "\n",
    "### Sharp ratio를 최대화하는 포트폴리오의 자산 비중을 초기 투자 비중으로 택했습니다. "
   ]
  },
  {
   "cell_type": "markdown",
   "id": "2557f672",
   "metadata": {},
   "source": [
    "\n",
    "## Risk Free Rate은 무엇으로 할지?\n",
    "### FEDFUNDS = fred_data_loader('FEDFUNDS')\n",
    "### 해당 기간 동안의 federal fund rate의 mean으로 해보았습니다. \n",
    "### risk_free_rate= FEDFUNDS.mean()\n",
    "### 하지만 0.6정도로 너무 높게 나와서 Hull, J.C., 2018. Options, Futures and Other Derivatives, 10e. Aufl., New York. 책에 나온 무위험 이자율 0.01을 참고했습니다. \n"
   ]
  },
  {
   "cell_type": "code",
   "execution_count": 54,
   "id": "2f2902d9",
   "metadata": {},
   "outputs": [],
   "source": [
    "import pandas_datareader.data as web\n",
    "\n",
    "def fred_data_loader(ticker):\n",
    "    data = web.DataReader([ticker],'fred',start='2012.01.01', end='2020.12.31')\n",
    "    data.rename(columns = {'Adj Close':ticker}, inplace=True)\n",
    "#   data.rename(columns = {'DATE':'Date'}, inplace=True)\n",
    "    data = data[str(ticker)]\n",
    "    \n",
    "    plt.figure(figsize=(14,6))\n",
    "    plt.title(ticker+ ' History', fontsize=18)\n",
    "    plt.plot(data)\n",
    "    plt.xlabel('Date', fontsize=18)\n",
    "    plt.ylabel(ticker, fontsize=18)\n",
    "    plt.show()\n",
    "    \n",
    "    \n",
    "    return data"
   ]
  },
  {
   "cell_type": "code",
   "execution_count": 111,
   "id": "7b1ceeb1",
   "metadata": {},
   "outputs": [
    {
     "data": {
      "image/png": "[encoded data removed]",
      "text/plain": [
       "<Figure size 1400x600 with 1 Axes>"
      ]
     },
     "metadata": {},
     "output_type": "display_data"
    },
    {
     "name": "stdout",
     "output_type": "stream",
     "text": [
      "risk-free rate: 0.6924074074074076\n"
     ]
    }
   ],
   "source": [
    "# Risk Free Rate\n",
    "# FEDFUNDS = fred_data_loader('FEDFUNDS')\n",
    "# 해당 기간 동안의 federal fund rate의 mean으로 해보았습니다. \n",
    "# risk_free_rate= FEDFUNDS.mean()\n",
    "# print(\"risk-free rate:\", risk_free_rate) "
   ]
  },
  {
   "cell_type": "markdown",
   "id": "3b1faa16",
   "metadata": {},
   "source": [
    "risk-free rate가 너무 높게 나와, 0.01로 설정했습니다. \n",
    "Hull 책을 참고했습니다. "
   ]
  },
  {
   "cell_type": "code",
   "execution_count": 195,
   "id": "4cf41428",
   "metadata": {},
   "outputs": [],
   "source": [
    "risk_free_rate = 0.01"
   ]
  },
  {
   "cell_type": "code",
   "execution_count": 196,
   "id": "a4aaf093",
   "metadata": {},
   "outputs": [],
   "source": [
    "import numpy as np"
   ]
  },
  {
   "cell_type": "code",
   "execution_count": 262,
   "id": "4ec4da28",
   "metadata": {},
   "outputs": [],
   "source": [
    "n_assets = 4\n",
    "n_portfolios = 1000\n",
    "np.random.seed(75)\n",
    "mean_variance = []\n",
    "Annual = (1+pct_df.mean())**12 - 1\n",
    "cov = pct_df.cov()*12\n",
    "\n",
    "for i in range(n_portfolios):\n",
    "    pair_list=[]\n",
    "    assets = np.random.choice(list(pct_df.columns), n_assets, replace=False)\n",
    "    weights = np.random.rand(n_assets)\n",
    "    weights = weights/sum(weights)\n",
    "\n",
    "    portfolio_Variance = 0 \n",
    "    portfolio_Return = 0\n",
    "    for i in range(len(assets)):\n",
    "        portfolio_Return += weights[i] * Annual.loc[assets[i]]\n",
    "        for j in range(len(assets)):\n",
    "            portfolio_Variance += weights[i] * weights[j] * cov.loc[assets[i], assets[j]]\n",
    "    pair_list.append(portfolio_Return)\n",
    "    pair_list.append(portfolio_Variance)\n",
    "    #weight도 list에 넣어줘서 나중에 샤프비율을 기준으로 선택된 포트폴리오의 자산 비중을 알도록 한다. \n",
    "    pair_list.append(weights)\n",
    "            \n",
    "    mean_variance.append(pair_list)"
   ]
  },
  {
   "cell_type": "code",
   "execution_count": 263,
   "id": "e68bef4c",
   "metadata": {},
   "outputs": [],
   "source": [
    "import matplotlib.pyplot as plt\n",
    "%matplotlib inline"
   ]
  },
  {
   "cell_type": "code",
   "execution_count": null,
   "id": "b4107c6d",
   "metadata": {},
   "outputs": [],
   "source": [
    "Std = []\n",
    "for i in (mean_variance):\n",
    "    temp = np.sqrt(i[1])\n",
    "    Std.append(temp)\n",
    "    \n",
    "Std"
   ]
  },
  {
   "cell_type": "code",
   "execution_count": null,
   "id": "a43b3ba4",
   "metadata": {},
   "outputs": [],
   "source": [
    "Return = []\n",
    "for i in (mean_variance):\n",
    "    temp = i[0]\n",
    "    Return.append(temp)\n",
    "    \n",
    "Return"
   ]
  },
  {
   "cell_type": "code",
   "execution_count": 266,
   "id": "c9e9c261",
   "metadata": {},
   "outputs": [
    {
     "data": {
      "image/png": "[encoded data removed]",
      "text/plain": [
       "<Figure size 1200x600 with 1 Axes>"
      ]
     },
     "metadata": {},
     "output_type": "display_data"
    }
   ],
   "source": [
    "plt.figure(figsize=(12,6))\n",
    "plt.title('Efficient Frontier', fontsize=18)\n",
    "plt.plot(Var,Return)\n",
    "plt.xlabel('Risk', fontsize=18)\n",
    "plt.ylabel('Return', fontsize=18)\n",
    "plt.show()"
   ]
  },
  {
   "cell_type": "markdown",
   "id": "c45569f5",
   "metadata": {},
   "source": [
    "## Efficient Frontier를 그린 무작위 생성 포트폴리오에서 샤프비율이 가장 큰  것의 자산 비중을 초기 투자 비중으로 선택. \n",
    "\n",
    "\n",
    "\n"
   ]
  },
  {
   "cell_type": "code",
   "execution_count": null,
   "id": "32bfb4c8",
   "metadata": {},
   "outputs": [],
   "source": [
    "sharp = []\n",
    "for ret,std in zip(Return, Std):\n",
    "    sharp_each = (ret - risk_free_rate)/std\n",
    "    sharp.append(sharp_each)\n",
    "    \n",
    "sharp"
   ]
  },
  {
   "cell_type": "code",
   "execution_count": 153,
   "id": "85eaf59c",
   "metadata": {},
   "outputs": [
    {
     "data": {
      "text/plain": [
       "1000"
      ]
     },
     "execution_count": 153,
     "metadata": {},
     "output_type": "execute_result"
    }
   ],
   "source": [
    "len(sharp)"
   ]
  },
  {
   "cell_type": "code",
   "execution_count": 154,
   "id": "6e80d931",
   "metadata": {},
   "outputs": [
    {
     "data": {
      "text/plain": [
       "0.8101767647755925"
      ]
     },
     "execution_count": 154,
     "metadata": {},
     "output_type": "execute_result"
    }
   ],
   "source": [
    "sorted_sharp = sorted(sharp)\n",
    "max_sharp = sorted_sharp[-1]\n",
    "max_sharp"
   ]
  },
  {
   "cell_type": "code",
   "execution_count": 155,
   "id": "d5608660",
   "metadata": {
    "scrolled": true
   },
   "outputs": [
    {
     "data": {
      "text/plain": [
       "533"
      ]
     },
     "execution_count": 155,
     "metadata": {},
     "output_type": "execute_result"
    }
   ],
   "source": [
    "sharp.index(max_sharp)"
   ]
  },
  {
   "cell_type": "code",
   "execution_count": 157,
   "id": "b5be1fd6",
   "metadata": {},
   "outputs": [
    {
     "data": {
      "text/plain": [
       "array([0.24295694, 0.69729744, 0.04978756, 0.00995805])"
      ]
     },
     "execution_count": 157,
     "metadata": {},
     "output_type": "execute_result"
    }
   ],
   "source": [
    "selected_portfolio = mean_variance[sharp.index(max_sharp)]\n",
    "selected_weight = selected_portfolio[-1]\n",
    "selected_weight"
   ]
  },
  {
   "cell_type": "markdown",
   "id": "4c05ad23",
   "metadata": {},
   "source": [
    "### 위에서 구한 비중으로 초기 자산의 비중을 구성한다. "
   ]
  }
 ],
 "metadata": {
  "kernelspec": {
   "display_name": "Python 3 (ipykernel)",
   "language": "python",
   "name": "python3"
  },
  "language_info": {
   "codemirror_mode": {
    "name": "ipython",
    "version": 3
   },
   "file_extension": ".py",
   "mimetype": "text/x-python",
   "name": "python",
   "nbconvert_exporter": "python",
   "pygments_lexer": "ipython3",
   "version": "3.10.7"
  }
 },
 "nbformat": 4,
 "nbformat_minor": 5
}
