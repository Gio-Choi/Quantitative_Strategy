{
 "cells": [
  {
   "cell_type": "code",
   "execution_count": 1,
   "id": "291d2edd",
   "metadata": {},
   "outputs": [],
   "source": [
    "import pandas_datareader.data as web\n",
    "import pandas as pd\n",
    "import matplotlib.pyplot as plt\n",
    "%matplotlib inline"
   ]
  },
  {
   "cell_type": "markdown",
   "id": "e5171eee",
   "metadata": {},
   "source": [
    "## Data_loader function"
   ]
  },
  {
   "cell_type": "code",
   "execution_count": 12,
   "id": "f97fc79c",
   "metadata": {},
   "outputs": [],
   "source": [
    "def yahoo_data_loader(ticker):\n",
    "    \n",
    "    data = web.get_data_yahoo(ticker, start='2012.01.01', end='2020.12.31')\n",
    "    data.rename(columns = {'Adj Close':ticker}, inplace=True)\n",
    "    data = data[str(ticker)]\n",
    "    \n",
    "    plt.figure(figsize=(14,6))\n",
    "    plt.title(ticker+ ' History', fontsize=18)\n",
    "    plt.plot(data)\n",
    "    plt.xlabel('Date', fontsize=18)\n",
    "    plt.ylabel(ticker, fontsize=18)\n",
    "    plt.show()\n",
    "    \n",
    "    \n",
    "    return data"
   ]
  },
  {
   "cell_type": "code",
   "execution_count": 13,
   "id": "9f362cbc",
   "metadata": {},
   "outputs": [],
   "source": [
    "def fred_data_loader(ticker):\n",
    "    data = web.DataReader([ticker],'fred',start='2012.01.01', end='2020.12.31')\n",
    "    data.rename(columns = {'Adj Close':ticker}, inplace=True)\n",
    "#   data.rename(columns = {'DATE':'Date'}, inplace=True)\n",
    "    data = data[str(ticker)]\n",
    "    \n",
    "    plt.figure(figsize=(14,6))\n",
    "    plt.title(ticker+ ' History', fontsize=18)\n",
    "    plt.plot(data)\n",
    "    plt.xlabel('Date', fontsize=18)\n",
    "    plt.ylabel(ticker, fontsize=18)\n",
    "    plt.show()\n",
    "    \n",
    "    \n",
    "    return data"
   ]
  },
  {
   "cell_type": "code",
   "execution_count": null,
   "id": "5bc304a0",
   "metadata": {
    "scrolled": false
   },
   "outputs": [],
   "source": [
    "# S&P500 데이터\n",
    "sp500 = yahoo_data_loader('^GSPC')"
   ]
  },
  {
   "cell_type": "code",
   "execution_count": null,
   "id": "599d638e",
   "metadata": {},
   "outputs": [],
   "source": [
    "sp500"
   ]
  },
  {
   "cell_type": "code",
   "execution_count": null,
   "id": "017f2775",
   "metadata": {
    "scrolled": false
   },
   "outputs": [],
   "source": [
    "# Europe, Australia, and Far East\n",
    "EFAE = yahoo_data_loader('EFA')"
   ]
  },
  {
   "cell_type": "code",
   "execution_count": null,
   "id": "84405d8f",
   "metadata": {},
   "outputs": [],
   "source": [
    "EFAE"
   ]
  },
  {
   "cell_type": "code",
   "execution_count": null,
   "id": "eff7e639",
   "metadata": {
    "scrolled": true
   },
   "outputs": [],
   "source": [
    "# Real Estate\n",
    "NAREIT = yahoo_data_loader('^FNAR')"
   ]
  },
  {
   "cell_type": "code",
   "execution_count": null,
   "id": "d52bed39",
   "metadata": {
    "scrolled": true
   },
   "outputs": [],
   "source": [
    "# Commodity\n",
    "Commodity = yahoo_data_loader('GD=F')"
   ]
  },
  {
   "cell_type": "code",
   "execution_count": null,
   "id": "36d8de5d",
   "metadata": {},
   "outputs": [],
   "source": [
    "Commodity"
   ]
  },
  {
   "cell_type": "code",
   "execution_count": null,
   "id": "ec60d6d7",
   "metadata": {},
   "outputs": [],
   "source": [
    "M2 = fred_data_loader('M2SL')"
   ]
  },
  {
   "cell_type": "code",
   "execution_count": null,
   "id": "dc265d63",
   "metadata": {},
   "outputs": [],
   "source": [
    "M2"
   ]
  },
  {
   "cell_type": "markdown",
   "id": "316efbf8",
   "metadata": {},
   "source": [
    "# Merge Datasets\n",
    "\n",
    "### Join data. Retain all values and all rows, including Null."
   ]
  },
  {
   "cell_type": "code",
   "execution_count": null,
   "id": "fa7b8f59",
   "metadata": {},
   "outputs": [],
   "source": [
    "df_list= [EFAE, NAREIT, Commodity, M2]\n",
    "\n",
    "final_df = sp500\n",
    "for i in df_list:\n",
    "    final_df = pd.concat([final_df, i], axis=1)\n",
    "    \n",
    "final_df"
   ]
  },
  {
   "cell_type": "code",
   "execution_count": null,
   "id": "ec878fb6",
   "metadata": {
    "scrolled": true
   },
   "outputs": [],
   "source": [
    "final_df"
   ]
  },
  {
   "cell_type": "code",
   "execution_count": null,
   "id": "10acf949",
   "metadata": {},
   "outputs": [],
   "source": [
    "dataframe=final_df\n",
    "dataframe"
   ]
  },
  {
   "cell_type": "code",
   "execution_count": null,
   "id": "30a5bc1c",
   "metadata": {},
   "outputs": [],
   "source": [
    "dataframe.head(30)"
   ]
  },
  {
   "cell_type": "code",
   "execution_count": null,
   "id": "b8d8e88d",
   "metadata": {},
   "outputs": [],
   "source": [
    "# first_day_df = dataframe.resample('BMS').ffill()"
   ]
  },
  {
   "cell_type": "code",
   "execution_count": null,
   "id": "a670131d",
   "metadata": {},
   "outputs": [],
   "source": [
    "first_day_df = first_day_df.drop('M2SL', axis=1)\n",
    "first_day_df"
   ]
  },
  {
   "cell_type": "code",
   "execution_count": null,
   "id": "29755f4d",
   "metadata": {},
   "outputs": [],
   "source": [
    "first_day_df = first_day_df.dropna()\n",
    "first_day_df"
   ]
  },
  {
   "cell_type": "code",
   "execution_count": null,
   "id": "eda7800d",
   "metadata": {},
   "outputs": [],
   "source": [
    "first_day_df.to_csv('EveryDay_Dataset.csv')\n",
    "# first_day_df.to_csv('First_Day_Dataset.csv')"
   ]
  },
  {
   "cell_type": "markdown",
   "id": "25c987d8",
   "metadata": {},
   "source": [
    "# 영업일 마지막날"
   ]
  },
  {
   "cell_type": "code",
   "execution_count": null,
   "id": "d1a3c35b",
   "metadata": {},
   "outputs": [],
   "source": [
    "last_day_df = dataframe.resample('BM').last()\n",
    "last_day_df"
   ]
  },
  {
   "cell_type": "code",
   "execution_count": null,
   "id": "2dafa36a",
   "metadata": {},
   "outputs": [],
   "source": [
    "last_day_df = last_day_df.drop('M2SL', axis=1)\n",
    "last_day_df"
   ]
  },
  {
   "cell_type": "code",
   "execution_count": null,
   "id": "bbbad3a7",
   "metadata": {},
   "outputs": [],
   "source": [
    "# last_day_df.to_csv('Last_Day_Dataset.csv')"
   ]
  },
  {
   "cell_type": "code",
   "execution_count": null,
   "id": "65b10851",
   "metadata": {},
   "outputs": [],
   "source": []
  }
 ],
 "metadata": {
  "kernelspec": {
   "display_name": "Python 3 (ipykernel)",
   "language": "python",
   "name": "python3"
  },
  "language_info": {
   "codemirror_mode": {
    "name": "ipython",
    "version": 3
   },
   "file_extension": ".py",
   "mimetype": "text/x-python",
   "name": "python",
   "nbconvert_exporter": "python",
   "pygments_lexer": "ipython3",
   "version": "3.10.7"
  }
 },
 "nbformat": 4,
 "nbformat_minor": 5
}
